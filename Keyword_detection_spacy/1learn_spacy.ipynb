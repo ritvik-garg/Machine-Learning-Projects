{
 "cells": [
  {
   "cell_type": "code",
   "execution_count": 474,
   "metadata": {
    "collapsed": false
   },
   "outputs": [],
   "source": [
    "from spacy import tokens\n",
    "from nltk.stem.wordnet import WordNetLemmatizer\n",
    "import spacy\n",
    "nlp = spacy.load('en')"
   ]
  },
  {
   "cell_type": "code",
   "execution_count": 475,
   "metadata": {
    "collapsed": false
   },
   "outputs": [
    {
     "name": "stdout",
     "output_type": "stream",
     "text": [
      "<class 'str'>\n"
     ]
    }
   ],
   "source": [
    "path = \"C:/Users/Ritvik/Desktop/1Learn/test.txt\"\n",
    "file = open(path, 'r')\n",
    "text = file.read()\n",
    "print(type(text))\n",
    "\n",
    "#document = unicode(open(\"C:/Users/Ritvik/Desktop/1Learn/test.txt\").read().decode('utf-8'))\n",
    "document = nlp(text)\n",
    "\n",
    "#print ( (document))"
   ]
  },
  {
   "cell_type": "code",
   "execution_count": 476,
   "metadata": {
    "collapsed": false
   },
   "outputs": [
    {
     "name": "stdout",
     "output_type": "stream",
     "text": [
      "0  :  15.2.1 Food Chains and Webs\n",
      "\n",
      "1  :  In Activity 15.4 we have formed a series of organisms feeding\n",
      "on one another.\n",
      "2  :  This series or organisms taking part at various\n",
      "biotic levels form a food chain (Fig. 15.1).\n",
      "\n",
      "3  :  Each step or level of the food chain forms a trophic level.\n",
      "\n",
      "4  :  The autotrophs or the producers are at the first trophic level.\n",
      "\n",
      "5  :  They fix up the solar energy and make it available for\n",
      "heterotrophs or the consumers.\n",
      "6  :  The herbivores or the primary\n",
      "consumers come at the second, small carnivores or the\n",
      "secondary consumers at the third and larger carnivores or\n",
      "the tertiary consumers form the fourth trophic level (Fig. 15.2).\n",
      "\n",
      "7  :  We know that the food we eat acts as a fuel to provide us\n",
      "energy to do work.\n",
      "8  :  Thus the interactions among various\n",
      "components of the environment involves flow of energy from\n",
      "one component of the system to another.\n",
      "9  :  As we have studied,\n",
      "the autotrophs capture the energy present in sunlight and\n",
      "convert it into chemical energy.\n",
      "10  :  This energy supports all the\n",
      "activities of the living world.\n",
      "11  :  From autotrophs, the energy goes\n",
      "to the heterotrophs and decomposers.\n",
      "12  :  However, as we saw in\n",
      "the previous Chapter on ‘Sources of Energy’, when one form\n",
      "of energy is changed to another, some energy is lost to the\n",
      "environment in forms which cannot be used again.\n",
      "13  :  The flow\n",
      "of energy between various components of the environment\n",
      "has been extensively studied and it has been found\n",
      "14  :  that –\n",
      "??\n",
      "15  :  The green plants in a terrestrial ecosystem capture about\n",
      "1% of the energy of sunlight that falls on their leaves and\n",
      "convert it into food energy.\n",
      "??\n",
      "16  :  When green plants are eaten by primary consumers, a great\n",
      "deal of energy is lost as heat to the environment, some amount\n",
      "goes into digestion and in doing work and the rest goes\n",
      "towards growth and reproduction.\n",
      "17  :  An average of 10% of the\n",
      "food eaten is turned into its own body and made available for\n",
      "the next level of consumers.\n",
      "??\n",
      "18  :  Therefore, 10% can be taken as the average value for the\n",
      "amount of organic matter that is present at each step and\n",
      "reaches the next level of consumers.\n",
      "\n",
      "19  :  Activity 15.4\n",
      "??\n",
      "20  :  While creating an aquarium did you take care not to put an aquatic\n",
      "animal which would eat others?\n",
      "21  :  What would have happened\n",
      "otherwise?\n",
      "??\n",
      "22  :  Make groups and discuss how each of the above groups of\n",
      "organisms are dependent on each other.\n",
      "??\n",
      "23  :  Write the aquatic organisms in order of who eats whom and form\n",
      "a chain of at least three steps. ? ?\n",
      "??\n",
      "24  :  Would you consider any one group of organisms to be of primary\n",
      "importance?\n",
      "25  :  Why or why not?\n",
      "\n",
      "26  :  Figure 15.1\n",
      "Food chain in nature\n",
      "(a) in forest,\n",
      "27  :  (b) in\n",
      "grassland and (c) in a\n",
      "pond\n",
      "\n",
      "28  :  Figure 15.2\n",
      "\n",
      "29  :  Trophic levels\n",
      "260 Science\n",
      "??\n",
      "30  :  Since so little energy is available for the\n",
      "next level of consumers, food chains\n",
      "generally consist of only three or four\n",
      "steps.\n",
      "31  :  The loss of energy at each step is\n",
      "so great that very little usable energy\n",
      "remains after four trophic levels.\n",
      "??\n",
      "32  :  There are generally a greater number\n",
      "of individuals at the lower trophic levels\n",
      "of an ecosystem, the greatest number\n",
      "is of the producers.\n",
      "??\n",
      "33  :  The length and complexity of food\n",
      "chains vary greatly.\n",
      "34  :  Each organism is\n",
      "generally eaten by two or more other\n",
      "kinds of organisms which in turn are\n",
      "eaten by several other organisms.\n",
      "35  :  So\n",
      "instead of a straight line food chain, the\n",
      "relationship can be shown as a series\n",
      "of branching lines called a food web\n",
      "(Fig.\n",
      "36  :  15.3).\n",
      "\n",
      "37  :  From the energy flow diagram (Fig. 15.4),\n",
      "two things become clear.\n",
      "38  :  Firstly, the flow of\n",
      "energy is unidirectional.\n",
      "39  :  The energy that is\n",
      "captured by the autotrophs does not revert\n",
      "back to the solar input and the energy which\n",
      "passes to the herbivores does not come back\n",
      "to autotrophs.\n",
      "40  :  As it moves progressively\n",
      "through the various trophic levels it is no\n",
      "longer available to the previous level.\n"
     ]
    }
   ],
   "source": [
    "# List of sentences of our doc \n",
    "sent = list(document.sents)\n",
    "#print ((sent))\n",
    "for i in range(41):\n",
    "    print (i,\" : \",sent[i])"
   ]
  },
  {
   "cell_type": "code",
   "execution_count": 477,
   "metadata": {
    "collapsed": false
   },
   "outputs": [
    {
     "name": "stdout",
     "output_type": "stream",
     "text": [
      "None\n"
     ]
    }
   ],
   "source": [
    "print(spacy.explain('prop'))"
   ]
  },
  {
   "cell_type": "code",
   "execution_count": 478,
   "metadata": {
    "collapsed": false
   },
   "outputs": [
    {
     "name": "stdout",
     "output_type": "stream",
     "text": [
      "{95: 'PROPN', 88: 'CCONJ', 102: 'SPACE', 84: 'ADP', 92: 'NUM', 94: 'PRON', 99: 'VERB', 89: 'DET', 91: 'NOUN', 96: 'PUNCT', 83: 'ADJ', 93: 'PART', 85: 'ADV'}\n"
     ]
    }
   ],
   "source": [
    "# get all tags\n",
    "all_tags = {w.pos: w.pos_ for w in document}\n",
    "print (all_tags)\n"
   ]
  },
  {
   "cell_type": "code",
   "execution_count": null,
   "metadata": {
    "collapsed": true
   },
   "outputs": [],
   "source": []
  },
  {
   "cell_type": "code",
   "execution_count": 479,
   "metadata": {
    "collapsed": false
   },
   "outputs": [
    {
     "name": "stdout",
     "output_type": "stream",
     "text": [
      "<class 'spacy.tokens.doc.Doc'>\n",
      "<class 'spacy.tokens.doc.Doc'>\n",
      "food chain and web in activity we have formed a series of organism feeding on one another this series or organism taking part at various biotic level form a food chain fig each step or level of the food chain form a trophic level the autotroph or the producer are at the first trophic level they fix up the solar energy and make it available for heterotroph or the consumer the herbivore or the primary consumer come at the second small carnivore or the secondary consumer at the third and larger carnivore or the tertiary consumer form the fourth trophic level fig we know that the food we eat act a a fuel to provide u energy to do work thus the interaction among various component of the environment involves flow of energy from one component of the system to another a we have studied the autotroph capture the energy present in sunlight and convert it into chemical energy this energy support all the activity of the living world from autotroph the energy go to the heterotroph and decomposers however a we saw in the previous chapter on source of when one form of energy is changed to another some energy is lost to the environment in form which can not be used again the flow of energy between various component of the environment ha been extensively studied and it ha been found that the green plant in a terrestrial ecosystem capture about of the energy of sunlight that fall on their leaf and convert it into food energy when green plant are eaten by primary consumer a great deal of energy is lost a heat to the environment some amount go into digestion and in doing work and the rest go towards growth and reproduction an average of of the food eaten is turned into it own body and made available for the next level of consumer therefore can be taken a the average value for the amount of organic matter that is present at each step and reach the next level of consumer activity while creating an aquarium did you take care not to put an aquatic animal which would eat others what would have happened otherwise make group and discus how each of the above group of organism are dependent on each other write the aquatic organism in order of who eats whom and form a chain of at least three step would you consider any one group of organism to be of primary importance why or why not figure food chain in nature a in forest b in grassland and c in a pond figure trophic level science since so little energy is available for the next level of consumer food chain generally consist of only three or four step the loss of energy at each step is so great that very little usable energy remains after four trophic level there are generally a greater number of individual at the lower trophic level of an ecosystem the greatest number is of the producer the length and complexity of food chain vary greatly each organism is generally eaten by two or more other kind of organism which in turn are eaten by several other organism so instead of a straight line food chain the relationship can be shown a a series of branching line called a food web fig from the energy flow diagram fig two thing become clear firstly the flow of energy is unidirectional the energy that is captured by the autotroph doe not revert back to the solar input and the energy which pass to the herbivore doe not come back to autotroph a it move progressively through the various trophic level it is no longer available to the previous level\n"
     ]
    }
   ],
   "source": [
    "doc1 = [w.lower_ for w in document]\n",
    "#print(doc)\n",
    "doc2 = [w for w in doc1 if w.isalpha() == True]\n",
    "lmtzr = WordNetLemmatizer()\n",
    "doc3 = [lmtzr.lemmatize(w) for w in doc2]\n",
    "print (type(document))\n",
    "doc4 = ' '.join(e for e in doc3)\n",
    "document = nlp(doc4)\n",
    "#doc = nlp(doc)\n",
    "print (type(document))\n",
    "print(document)"
   ]
  },
  {
   "cell_type": "code",
   "execution_count": 480,
   "metadata": {
    "collapsed": false
   },
   "outputs": [],
   "source": [
    "#define some parameters  \n",
    "#Function to check if the token is a noise or not  \n",
    "#document = nlp(document)\n",
    "def isNoise(token):     \n",
    "    is_noise = False\n",
    "    if token.pos_ != \"NOUN\":\n",
    "        is_noise = True\n",
    "        #check.append(\"hi\")\n",
    "    elif token.is_stop == True:\n",
    "        is_noise = True\n",
    "    elif len(token.string) <= 2:\n",
    "        is_noise = True\n",
    "    return is_noise"
   ]
  },
  {
   "cell_type": "code",
   "execution_count": 481,
   "metadata": {
    "collapsed": false
   },
   "outputs": [],
   "source": [
    "def cleanup(token, lower = True):\n",
    "    if lower:\n",
    "       token = token.lower()\n",
    "    return token.strip()"
   ]
  },
  {
   "cell_type": "code",
   "execution_count": 485,
   "metadata": {
    "collapsed": false
   },
   "outputs": [
    {
     "name": "stdout",
     "output_type": "stream",
     "text": [
      "Counter({'energy': 20, 'level': 13, 'food': 11, 'chain': 8, 'organism': 8, 'consumer': 8, 'fig': 4, 'step': 4, 'environment': 4, 'flow': 4, 'activity': 3, 'series': 3, 'form': 3, 'autotroph': 3, 'component': 3, 'group': 3, 'web': 2, 'producer': 2, 'heterotroph': 2, 'herbivore': 2, 'carnivore': 2, 'work': 2, 'sunlight': 2, 'plant': 2, 'ecosystem': 2, 'number': 2, 'line': 2, 'fuel': 1, 'interaction': 1, 'system': 1, 'chemical': 1, 'support': 1, 'world': 1, 'decomposers': 1, 'chapter': 1, 'source': 1, 'capture': 1, 'leaf': 1, 'deal': 1, 'heat': 1, 'digestion': 1, 'rest': 1, 'growth': 1, 'average': 1, 'body': 1, 'value': 1, 'matter': 1, 'aquarium': 1, 'care': 1, 'animal': 1, 'order': 1, 'importance': 1, 'nature': 1, 'forest': 1, 'grassland': 1, 'pond': 1, 'figure': 1, 'science': 1, 'loss': 1, 'individual': 1, 'length': 1, 'complexity': 1, 'kind': 1, 'turn': 1, 'relationship': 1, 'diagram': 1, 'thing': 1, 'input': 1, 'doe': 1})\n",
      "[('energy', 20), ('level', 13), ('food', 11), ('chain', 8), ('organism', 8)]\n"
     ]
    }
   ],
   "source": [
    "# top unigrams used in the reviews \n",
    "#print (document)\n",
    "from collections import Counter\n",
    "cleaned_list = [cleanup(word.string) for word in document if not isNoise(word)]\n",
    "#cleaned_list = set(cleaned_list)\n",
    "#print (cleaned_list)\n",
    "print (Counter(cleaned_list))\n",
    "print(Counter(cleaned_list) .most_common(5))\n",
    "#print (len(cleaned_list))\n",
    "#print (len(check))\n",
    "#print (\"count\", count)"
   ]
  },
  {
   "cell_type": "code",
   "execution_count": 483,
   "metadata": {
    "collapsed": true
   },
   "outputs": [],
   "source": [
    "word = nlp('world')"
   ]
  },
  {
   "cell_type": "code",
   "execution_count": 484,
   "metadata": {
    "collapsed": false
   },
   "outputs": [
    {
     "name": "stdout",
     "output_type": "stream",
     "text": [
      "h\n"
     ]
    }
   ],
   "source": [
    "\n",
    "for w in word:\n",
    "    if(w.pos_ == \"NOUN\"):\n",
    "        print(\"h\")"
   ]
  },
  {
   "cell_type": "code",
   "execution_count": null,
   "metadata": {
    "collapsed": true
   },
   "outputs": [],
   "source": []
  }
 ],
 "metadata": {
  "kernelspec": {
   "display_name": "Python 3",
   "language": "python",
   "name": "python3"
  },
  "language_info": {
   "codemirror_mode": {
    "name": "ipython",
    "version": 3
   },
   "file_extension": ".py",
   "mimetype": "text/x-python",
   "name": "python",
   "nbconvert_exporter": "python",
   "pygments_lexer": "ipython3",
   "version": "3.6.0"
  }
 },
 "nbformat": 4,
 "nbformat_minor": 2
}
