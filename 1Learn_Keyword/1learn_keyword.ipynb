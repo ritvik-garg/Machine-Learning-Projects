{
 "cells": [
  {
   "cell_type": "markdown",
   "metadata": {},
   "source": [
    "### Importing necessary packages"
   ]
  },
  {
   "cell_type": "code",
   "execution_count": 195,
   "metadata": {},
   "outputs": [],
   "source": [
    "import nltk\n",
    "from nltk.corpus import stopwords,words\n",
    "from nltk import wordpunct_tokenize\n",
    "from nltk import PorterStemmer\n",
    "from nltk.stem.wordnet import WordNetLemmatizer\n",
    "from autocorrect import spell\n",
    "import math\n",
    "from decimal import *\n",
    "import operator"
   ]
  },
  {
   "cell_type": "markdown",
   "metadata": {},
   "source": [
    "### Stopwords from differnt sources are copied into one text file and then read."
   ]
  },
  {
   "cell_type": "code",
   "execution_count": 196,
   "metadata": {},
   "outputs": [],
   "source": [
    "path = \"C:/Users/Ritvik/Desktop/1Learn/final_stopwords.txt\"\n",
    "file = open(path, 'r')\n",
    "text = file.read()"
   ]
  },
  {
   "cell_type": "code",
   "execution_count": 197,
   "metadata": {},
   "outputs": [
    {
     "name": "stdout",
     "output_type": "stream",
     "text": [
      "{'specifying', 'y', 'put', 'to', 'despite', 'great', 'seconds', 'instead', 'quite', 'showing', 'numbered', 'cannot', 'former', 'getting', 'part', 'worked', 'every', 'see', 'where', 'reasonably', 'beforehand', 'onto', 'o', 'wonder', 'whither', 'couldn', 'come', 'above', 'want', 'numbers', 'whole', 'thereupon', 'turns', 'nowhere', 'places', 'que', 'thing', 'hasnt', 'appear', 'man', 'g', 'qv', 'wish', 'problems', 'high', 'point', 'd', 'meanwhile', 'particularly', 'tell', 'formerly', 'best', 'up', 'let', 'seeming', 'thoughts', 'trying', 'relatively', 'oh', 'fill', 'began', 'downed', 'highest', 'help', 'amoungst', 'regarding', 'large', 'well', 'go', 'per', 'ltd', 'rd', 'this', 'somewhat', 'out', 'anybody', 'with', 'likely', 'ma', 'unlikely', 'pointing', 'r', 'bottom', 'fifth', 'numbering', 'against', 'us', 'does', 'alone', 'everyone', 'pointed', 'keep', 'between', 'neither', 'won', 'mon', 'thereby', 'considering', 'use', 'ours', 'whose', 'various', 'third', 'contains', 'some', 'another', 'any', 'mine', 'will', 'although', 'am', 'shall', 'has', 'like', 'soon', 'specify', 'com', 'seriously', 'welcome', 'willing', 'while', 'allows', 'going', 'viz', 'seemed', 'sixty', 'long', 'need', 'thin', 'able', 'two', 'four', 'look', 'almost', 'points', 'me', 'came', 'definitely', 'becoming', 'gives', 'i', 'tries', 'ex', 'seem', 'via', 'through', 'how', 'respectively', 'hereupon', 'anyone', 'turned', 'same', 'wanting', 'itse', 'hopefully', 'been', 'men', 'longer', 'furthered', 'sure', 'later', 'young', 'not', 'member', 'something', 'their', 'regards', 'at', 'm', 'please', 'facts', 'order', 'saying', 'looks', 'behind', 'largely', 'ain', 'latterly', 'show', 'knew', 'sometimes', 'furthering', 'overall', 'eight', 'indicate', 'by', 'yet', 'back', 'now', 'nothing', 'year', 'last', 'greater', 'awfully', 'backed', 'isn', 'hence', 'wanted', 'hasn', 'ok', 'eleven', 'opening', 'bill', 'needs', 'states', 'x', 'tends', 'whoever', 'merely', 'comes', 'made', 'case', 'several', 'actually', 'he', 'throughout', 'be', 'thanks', 'cry', 'try', 'liked', 'himself', 'perhaps', 'haven', 'cant', 'ten', 'did', 'her', 'presented', 'few', 'all', 'wants', 'whatever', 'generally', 'make', 'maybe', 'might', 'corresponding', 'entirely', 'exactly', 'for', 'around', 'each', 'nor', 'l', 'down', 'mrs', 'the', 'sensible', 'mostly', 'right', 'as', 'shan', 'too', 'inward', 're', 'wherever', 'couldnt', 'aren', 'becomes', 'these', 'shows', 'thank', 'p', 'knows', 'parts', 'no', 'them', 'elsewhere', 'clearly', 'very', 'whereupon', 've', 'may', 'doesn', 'top', 'six', 'they', 'backing', 'your', 'became', 'nearly', 'indicated', 'known', 'groups', 'newest', 'ought', 'wells', 'there', 'self', 'interesting', 'otherwise', 'concerning', 'smallest', 'fully', 'f', 'new', 'but', 'regardless', 'nobody', 'accordingly', 'v', 'et', 'younger', 'open', 'move', 'uses', 'then', 'however', 'indicates', 'rather', 'opens', 'forth', 'think', 'appreciate', 'namely', 'group', 'grouping', 'mainly', 'everybody', 'outside', 'than', 'which', 'along', 'theirs', 'little', 'early', 'certainly', 'within', 'face', 'least', 'years', 'nine', 'old', 'over', 'hers', 'until', 'number', 'just', 'secondly', 'itself', 'vs', 'we', 'wouldn', 'him', 'asking', 'herself', 'small', 'goes', 'only', 'th', 'towards', 'anyway', 'full', 'whereafter', 'really', 'available', 'so', 'thereafter', 'often', 'afterwards', 'kept', 'finds', 'both', 'downing', 'front', 'and', 'it', 'big', 'though', 'given', 'latter', 'puts', 'more', 'also', 'empty', 'name', 'members', 'thence', 'j', 'working', 'toward', 'because', 'good', 'b', 'mightn', 'call', 'three', 'when', 'followed', 'once', 'thanx', 'example', 'took', 'enough', 'forty', 'somebody', 'consequently', 'appropriate', 'edu', 'mustn', 'obviously', 'find', 'longest', 'today', 'anything', 'therein', 'those', 'needn', 'don', 'course', 'describe', 'll', 'moreover', 'one', 'latest', 'thought', 'higher', 'presenting', 'an', 'unfortunately', 'interested', 'thru', 'whenever', 'what', 'apart', 'thoroughly', 'looking', 'upon', 'had', 'ordering', 'evenly', 'whereby', 'theres', 'such', 'on', 'thinks', 'following', 'five', 'sub', 'fify', 'first', 'usually', 'thus', 'system', 'that', 'anyhow', 'tried', 'much', 'end', 'saw', 'furthermore', 'our', 'beyond', 'okay', 'fifteen', 'herse', 'turning', 'asked', 'themselves', 'lately', 'seven', 'selves', 'greatest', 'hereafter', 'among', 'therefore', 'cause', 'sent', 'must', 'before', 'interests', 'changes', 'believe', 'was', 'probably', 'whether', 'truly', 'interest', 'herein', 'its', 'kind', 'you', 'hereby', 'from', 'less', 'place', 'his', 'none', 's', 'nd', 'would', 'yourselves', 'during', 'many', 'works', 'newer', 'else', 'she', 'except', 'gets', 'serious', 'according', 'inc', 'con', 'whence', 'better', 'whom', 'myse', 'faces', 'uucp', 'differently', 'felt', 'even', 'computer', 'presumably', 'ending', 'value', 'give', 'of', 'others', 'sincere', 'say', 'contain', 'yours', 'work', 'detail', 'clear', 'off', 'who', 'hardly', 'wasn', 'unto', 'sides', 'lets', 'away', 'somewhere', 'furthers', 'ends', 'grouped', 'fact', 'sees', 'k', 'doing', 'u', 'gotten', 'either', 'used', 'about', 'why', 'e', 'consider', 'went', 'rooms', 'ask', 'ignored', 'sorry', 'turn', 'novel', 'other', 'asks', 'parting', 'happens', 'yes', 'says', 'could', 'thick', 'hundred', 'q', 'still', 'problem', 'together', 'necessary', 'again', 'seen', 'can', 'hadn', 'across', 'sometime', 'amongst', 'are', 'thats', 'said', 'most', 'backs', 'since', 'a', 'my', 'brief', 'mr', 'got', 'wherein', 'beings', 'near', 'get', 'himse', 'immediate', 'general', 'n', 'have', 'different', 'making', 'shouldn', 'should', 'follows', 'needed', 'didn', 'h', 'gave', 'take', 'mean', 'is', 'downs', 'anyways', 'in', 'already', 'differ', 'due', 'things', 'always', 'howbeit', 'having', 'being', 'present', 'here', 'fire', 'state', 'zero', 'besides', 'co', 'de', 'especially', 'un', 'know', 'ordered', 'eg', 'were', 'further', 'particular', 'seems', 'thorough', 'without', 'allow', 'area', 't', 'side', 'w', 'sup', 'unless', 'lest', 'currently', 'seeing', 'do', 'hither', 'below', 'older', 'aside', 'hello', 'ourselves', 'parted', 'hi', 'mill', 'nevertheless', 'ways', 'everything', 'non', 'cases', 'into', 'greetings', 'areas', 'specified', 'presents', 'smaller', 'somehow', 'plus', 'taken', 'myself', 'second', 'using', 'anywhere', 'yourself', 'amount', 'someone', 'or', 'described', 'noone', 'twenty', 'opened', 'keeps', 'needing', 'youngest', 'done', 'inner', 'c', 'gone', 'beside', 'found', 'indeed', 'causes', 'after', 'downwards', 'become', 'weren', 'orders', 'everywhere', 'room', 'z', 'placed', 'twelve', 'useful', 'containing', 'next', 'important', 'etc', 'certain', 'provides', 'inasmuch', 'ever', 'if', 'insofar', 'goods', 'way', 'normally', \"'\", 'ended', 'far', 'ones', 'possible', 'associated', 'oldest', 'under', 'showed', 'twice', 'never', 'ie', '\"', 'own', 'whereas'}\n"
     ]
    }
   ],
   "source": [
    "stop_words = wordpunct_tokenize(text)\n",
    "stop_words = set(stop_words)\n",
    "#print((stop_words))"
   ]
  },
  {
   "cell_type": "markdown",
   "metadata": {},
   "source": [
    "### These are the documents which we need for calculating idf..These text files are all added into a single list."
   ]
  },
  {
   "cell_type": "code",
   "execution_count": 198,
   "metadata": {},
   "outputs": [],
   "source": [
    "files = [\"CHAP 1.txt\",\"CHAP 2.txt\",\"CHAP 3.txt\",\"CHAP 4.txt\",\"CHAP 5.txt\",\"CHAP 6.txt\",\"CHAP 7.txt\",\"CHAP 8.txt\",\"CHAP 9.txt\",\"CHAP 10.txt\",\"CHAP 11.txt\",\"CHAP 12.txt\",\"CHAP 13.txt\",\"CHAP 14.txt\",\"CHAP 15.txt\",\"CHAP 16.txt\"]\n",
    "books = []\n",
    "path = \"C:/Users/Ritvik/Desktop/1Learn/Keyword Detector/ncert_text/\""
   ]
  },
  {
   "cell_type": "code",
   "execution_count": 199,
   "metadata": {},
   "outputs": [],
   "source": [
    "for i in range(len(files)):\n",
    "    file = open(path+files[i], 'r')\n",
    "    text = file.read()\n",
    "    file.close()\n",
    "    books.append(text)"
   ]
  },
  {
   "cell_type": "markdown",
   "metadata": {},
   "source": [
    "### Reading test file..tokenizing..removing stopwords..lemmatizing..also auto-correct.."
   ]
  },
  {
   "cell_type": "code",
   "execution_count": 200,
   "metadata": {},
   "outputs": [],
   "source": [
    "path_2 = \"C:/Users/Ritvik/Desktop/1Learn/\"\n",
    "file = open(path_2 + \"test1.txt\", 'r')\n",
    "text = file.read()"
   ]
  },
  {
   "cell_type": "code",
   "execution_count": 201,
   "metadata": {},
   "outputs": [
    {
     "name": "stdout",
     "output_type": "stream",
     "text": [
      "524\n"
     ]
    }
   ],
   "source": [
    "words = wordpunct_tokenize(text)\n",
    "#print(words)\n",
    "words = [w.lower() for w in words]\n",
    "print (len(words)) # lets see the no of words in the text."
   ]
  },
  {
   "cell_type": "code",
   "execution_count": 202,
   "metadata": {},
   "outputs": [
    {
     "name": "stdout",
     "output_type": "stream",
     "text": [
      "738\n",
      "111\n"
     ]
    }
   ],
   "source": [
    "print(len(stop_words))\n",
    "words = [w for w in words if w not in stop_words]\n",
    "words = [w for w in words if w.isalpha() == True and len(w) > 2]\n",
    "words = set(words)\n",
    "words = list(words)\n",
    "no_of_words = len(words)\n",
    "print (no_of_words) # Finally these number of words are used for keyword detection."
   ]
  },
  {
   "cell_type": "code",
   "execution_count": 203,
   "metadata": {},
   "outputs": [],
   "source": [
    "lmtzr = WordNetLemmatizer()\n",
    "words = [lmtzr.lemmatize(w) for w in words]\n",
    "count_of_words = len(words) # count is used when calculating term frequency."
   ]
  },
  {
   "cell_type": "code",
   "execution_count": 204,
   "metadata": {},
   "outputs": [
    {
     "name": "stdout",
     "output_type": "stream",
     "text": [
      "['evolved', 'arrive', 'article', 'layer', 'filing', 'coated', 'observed', 'process', 'caution', 'prevent', 'decide', 'attractive', 'dyed', 'thicker', 'sample', 'observe', 'cold', 'improved', 'reactive', 'reaction', 'reacts', 'shown', 'vigorously', 'corrosion', 'metal', 'coat', 'steam', 'temperature', 'burner', 'oil', 'filled', 'burning', 'react', 'sulphuric', 'anodising', 'start', 'metal', 'activity', 'silver', 'heating', 'make', 'dilute', 'air', 'oxidation', 'finish', 'coloured', 'magnesium', 'accidental', 'prevents', 'performing', 'kerosene', 'aluminium', 'forming', 'vigorous', 'anode', 'zinc', 'time', 'increasing', 'oxide', 'fig', 'gold', 'produce', 'easily', 'protect', 'covered', 'assistance', 'water', 'burn', 'conclusion', 'electrolysed', 'decreasing', 'temperature', 'reactivity', 'separately', 'article', 'piece', 'acid', 'floating', 'implying', 'iron', 'reactivity', 'exposed', 'surface', 'sodium', 'oxygen', 'catch', 'sprinkled', 'reaction', 'fire', 'teacher', 'apparatus', 'copper', 'resistant', 'reacted', 'lead', 'rate', 'ordinary', 'black', 'flame', 'resistance', 'hot', 'potassium', 'arrange', 'collect', 'half', 'gas', 'clean', 'develops', 'beaker', 'protective', 'immersed']\n"
     ]
    }
   ],
   "source": [
    "#print(words)"
   ]
  },
  {
   "cell_type": "code",
   "execution_count": 205,
   "metadata": {
    "scrolled": true
   },
   "outputs": [
    {
     "name": "stdout",
     "output_type": "stream",
     "text": [
      "['evolved', 'arrive', 'article', 'layer', 'filing', 'coated', 'observed', 'process', 'caution', 'prevent', 'decide', 'attractive', 'dyed', 'thicker', 'sample', 'observe', 'cold', 'improved', 'reactive', 'reaction', 'reacts', 'shown', 'vigorously', 'corrosion', 'metal', 'coat', 'steam', 'temperature', 'burner', 'oil', 'filled', 'burning', 'react', 'sulphuric', 'anodising', 'start', 'metal', 'activity', 'silver', 'heating', 'make', 'dilute', 'air', 'oxidation', 'finish', 'coloured', 'magnesium', 'accidental', 'prevents', 'performing', 'kerosene', 'aluminium', 'forming', 'vigorous', 'anode', 'zinc', 'time', 'increasing', 'oxide', 'fig', 'gold', 'produce', 'easily', 'protect', 'covered', 'assistance', 'water', 'burn', 'conclusion', 'electrolysed', 'decreasing', 'temperature', 'reactivity', 'separately', 'article', 'piece', 'acid', 'floating', 'implying', 'iron', 'reactivity', 'exposed', 'surface', 'sodium', 'oxygen', 'catch', 'sprinkled', 'reaction', 'fire', 'teacher', 'apparatus', 'copper', 'resistant', 'reacted', 'lead', 'rate', 'ordinary', 'black', 'flame', 'resistance', 'hot', 'potassium', 'arrange', 'collect', 'half', 'gas', 'clean', 'develops', 'beaker', 'protective', 'immersed']\n"
     ]
    }
   ],
   "source": [
    "words = [spell(w) for w in words]\n",
    "print (words)"
   ]
  },
  {
   "cell_type": "markdown",
   "metadata": {},
   "source": [
    "### Calculating Frequency Distribution of words"
   ]
  },
  {
   "cell_type": "code",
   "execution_count": 206,
   "metadata": {},
   "outputs": [],
   "source": [
    "fd = nltk.FreqDist(words)"
   ]
  },
  {
   "cell_type": "markdown",
   "metadata": {},
   "source": [
    "### Creating Dictionary to store tf-idf value corresponding to each word."
   ]
  },
  {
   "cell_type": "code",
   "execution_count": 207,
   "metadata": {},
   "outputs": [],
   "source": [
    "words_dict = {}\n",
    "for i in words:\n",
    "    words_dict[i] = 0"
   ]
  },
  {
   "cell_type": "markdown",
   "metadata": {},
   "source": [
    "#### In the list of doc we have 16 different text files.. tokenize each text file."
   ]
  },
  {
   "cell_type": "code",
   "execution_count": 208,
   "metadata": {},
   "outputs": [],
   "source": [
    "token={}  # Creating Dictionary 'token' to store tokenized word for each text file.\n",
    "for i in range(9):\n",
    "    token[i] = wordpunct_tokenize(books[i])"
   ]
  },
  {
   "cell_type": "code",
   "execution_count": 209,
   "metadata": {},
   "outputs": [
    {
     "name": "stdout",
     "output_type": "stream",
     "text": [
      "16\n"
     ]
    }
   ],
   "source": [
    "no_of_docs = len(books) # used in idf formula\n",
    "print (no_of_docs)"
   ]
  },
  {
   "cell_type": "code",
   "execution_count": 210,
   "metadata": {},
   "outputs": [],
   "source": [
    "## Function to calculate idf \n",
    "\n",
    "def IDF(key):\n",
    "    hit = 0 # to store no of doc having input word.\n",
    "    for i in token.keys():\n",
    "        for word in token[i]:\n",
    "            if word== key :\n",
    "                hit = hit + 1\n",
    "                break\n",
    "    (idf) = math.log10(Decimal(no_of_docs+1)/Decimal(hit+1)) \n",
    "    return idf"
   ]
  },
  {
   "cell_type": "code",
   "execution_count": 211,
   "metadata": {},
   "outputs": [],
   "source": [
    "## Calculating tf*idf for each word..\n",
    "\n",
    "for i in words:\n",
    "    getcontext().prec = 10\n",
    "    tf = Decimal(fd[i])/Decimal(count_of_words) # term frequency\n",
    "    idf = IDF(i) # Inverse Term Frequency\n",
    "    tf_idf = Decimal(tf)*Decimal(idf)\n",
    "    words_dict[i] = tf_idf"
   ]
  },
  {
   "cell_type": "code",
   "execution_count": 216,
   "metadata": {},
   "outputs": [
    {
     "name": "stdout",
     "output_type": "stream",
     "text": [
      "106\n",
      "[('article', Decimal('0.01674628695')), ('reactivity', Decimal('0.01132232307')), ('filing', Decimal('0.01108512542')), ('caution', Decimal('0.01108512542')), ('fig', Decimal('0.01108512542')), ('attractive', Decimal('0.008373143475')), ('dyed', Decimal('0.008373143475')), ('improved', Decimal('0.008373143475')), ('anodising', Decimal('0.008373143475')), ('prevents', Decimal('0.008373143475')), ('performing', Decimal('0.008373143475')), ('vigorous', Decimal('0.008373143475')), ('gold', Decimal('0.008373143475')), ('electrolysed', Decimal('0.008373143475')), ('floating', Decimal('0.008373143475')), ('implying', Decimal('0.008373143475')), ('catch', Decimal('0.008373143475')), ('sprinkled', Decimal('0.008373143475')), ('reacted', Decimal('0.008373143475')), ('ordinary', Decimal('0.008373143475')), ('protective', Decimal('0.008373143475')), ('metal', Decimal('0.008149507585')), ('coated', Decimal('0.006786735736')), ('thicker', Decimal('0.006786735736')), ('sample', Decimal('0.006786735736')), ('corrosion', Decimal('0.006786735736')), ('steam', Decimal('0.006786735736')), ('silver', Decimal('0.006786735736')), ('finish', Decimal('0.006786735736')), ('accidental', Decimal('0.006786735736')), ('kerosene', Decimal('0.006786735736')), ('anode', Decimal('0.006786735736')), ('burn', Decimal('0.006786735736')), ('conclusion', Decimal('0.006786735736')), ('decreasing', Decimal('0.006786735736')), ('exposed', Decimal('0.006786735736')), ('resistant', Decimal('0.006786735736')), ('resistance', Decimal('0.006786735736')), ('arrange', Decimal('0.006786735736')), ('immersed', Decimal('0.006786735736')), ('reaction', Decimal('0.005898359179')), ('temperature', Decimal('0.005898359179')), ('arrive', Decimal('0.005661161532')), ('coat', Decimal('0.005661161532')), ('burner', Decimal('0.005661161532')), ('heating', Decimal('0.005661161532')), ('oxidation', Decimal('0.005661161532')), ('zinc', Decimal('0.005661161532')), ('covered', Decimal('0.005661161532')), ('piece', Decimal('0.005661161532')), ('fire', Decimal('0.005661161532')), ('hot', Decimal('0.005661161532')), ('develops', Decimal('0.005661161532')), ('layer', Decimal('0.004788098352')), ('decide', Decimal('0.004788098352')), ('cold', Decimal('0.004788098352')), ('reactive', Decimal('0.004788098352')), ('reacts', Decimal('0.004788098352')), ('vigorously', Decimal('0.004788098352')), ('oil', Decimal('0.004788098352')), ('burning', Decimal('0.004788098352')), ('sulphuric', Decimal('0.004788098352')), ('coloured', Decimal('0.004788098352')), ('aluminium', Decimal('0.004788098352')), ('forming', Decimal('0.004788098352')), ('oxide', Decimal('0.004788098352')), ('protect', Decimal('0.004788098352')), ('assistance', Decimal('0.004788098352')), ('iron', Decimal('0.004788098352')), ('teacher', Decimal('0.004788098352')), ('black', Decimal('0.004788098352')), ('flame', Decimal('0.004788098352')), ('collect', Decimal('0.004788098352')), ('clean', Decimal('0.004788098352')), ('beaker', Decimal('0.004788098352')), ('react', Decimal('0.004074753792')), ('dilute', Decimal('0.004074753792')), ('air', Decimal('0.004074753792')), ('increasing', Decimal('0.004074753792')), ('easily', Decimal('0.004074753792')), ('sodium', Decimal('0.004074753792')), ('copper', Decimal('0.004074753792')), ('rate', Decimal('0.004074753792')), ('gas', Decimal('0.004074753792')), ('prevent', Decimal('0.003471629563')), ('activity', Decimal('0.003471629563')), ('magnesium', Decimal('0.003471629563')), ('produce', Decimal('0.003471629563')), ('separately', Decimal('0.003471629563')), ('acid', Decimal('0.003471629563')), ('apparatus', Decimal('0.003471629563')), ('potassium', Decimal('0.003471629563')), ('half', Decimal('0.003471629563')), ('evolved', Decimal('0.002949179589')), ('observed', Decimal('0.002949179589')), ('process', Decimal('0.002949179589')), ('shown', Decimal('0.002949179589')), ('filled', Decimal('0.002949179589')), ('surface', Decimal('0.002949179589')), ('lead', Decimal('0.002949179589')), ('observe', Decimal('0.002488346054')), ('start', Decimal('0.002488346054')), ('make', Decimal('0.002488346054')), ('time', Decimal('0.002076116409')), ('water', Decimal('0.002076116409')), ('oxygen', Decimal('0.002076116409'))]\n"
     ]
    }
   ],
   "source": [
    "### Reverse Sorting dictionary according to tf-idf value..\n",
    "\n",
    "sorted_words_dict = sorted(words_dict.items(), key=operator.itemgetter(1), reverse = True)\n",
    "print(len(sorted_words_dict))\n",
    "print (sorted_words_dict)\n",
    "  "
   ]
  },
  {
   "cell_type": "markdown",
   "metadata": {},
   "source": [
    "###  This block compares text with the list having all topics and sub-topics.."
   ]
  },
  {
   "cell_type": "code",
   "execution_count": 213,
   "metadata": {},
   "outputs": [
    {
     "name": "stdout",
     "output_type": "stream",
     "text": [
      "HEADING is :   What happens when Metals react with Water?\n"
     ]
    }
   ],
   "source": [
    "dict_topics = {0:['CHEMICAL EQUATIONS',\"Writing a Chemical Equation\",\"Balanced Chemical Equations\",\"TYPES OF CHEMICAL REACTIONS\",\"Combination Reaction\",\"Decomposition Reaction\",\"Displacement Reaction\",\"Double Displacement Reaction\",\"Oxidation and Reduction\",\"Corrosion\",\"Rancidity\"],1:[\"Acids and Bases in the Laboratory\",\"How do Acids and Bases React with Metals?\",\"How do Metal Carbonates and Metal\",\"How do Acids and Bases React with each other?\",\"Reaction of Metallic Oxides with Acids\",\"Reaction of a Non-metallic Oxide with Base\",\"WHAT DO ALL ACIDS AND ALL BASES HAVE IN\",\"What Happens to an Acid or a Base in a Water Solution?\",\"HOW STRONG ARE ACID OR BASE SOLUTIONS?\",\"Importance of pH in Everyday Life\",\"MORE ABOUT SALTS\",\"Family of Salts\",\"pH of Salts\",\"Chemicals from Common Salt\",\"Are the Crystals of Salts really Dry?\"],2:[\"Metals\",\"Non-metals\",\"CHEMICAL PROPERTIES OF METALS\",\"What happens when Metals are burnt in Air?\",\"What happens when Metals react with Water?\",\"What happens when Metals react with Acids?\",\"How do Metals react with Solutions of other Metal\",\"The Reactivity Series\",\"HOW DO METALS AND NON-METALS REACT?\",\"Properties of lonic Compounds\",\"OCCURRENCE OF METALS\",\"Extraction of Metals\",\"Enrichment of Ores\",\"Extracting Metals Low in the Activity Series\",\"Extracting Metals in the Middle of the Activity Series\",\"Extracting Metals towards the Top of the\",\"Refining of Metals\",\"CORROSION\",\"Prevention of Corrosion\"]}\n",
    "\n",
    "path_2 = \"C:/Users/Ritvik/Desktop/1Learn/\"\n",
    "file = open(path_2 + \"test1.txt\", 'r')\n",
    "text = file.read()\n",
    "final = []\n",
    "def learn_1():\n",
    "    for i in range(len(dict_topics)):\n",
    "        for j in range(len(dict_topics[i])):\n",
    "            if(dict_topics[i][j] in text):\n",
    "                final.append(dict_topics[i][j])\n",
    "                if(j==len(dict_topics[i])-1):\n",
    "                    i = len(dict_topics)\n",
    "        \n",
    "learn_1()\n",
    "if(len(final)>0):\n",
    "    sure_keyword = 1\n",
    "#print(final)\n",
    "print(\"HEADING is :  \", final[len(final)-1])"
   ]
  },
  {
   "cell_type": "code",
   "execution_count": 214,
   "metadata": {},
   "outputs": [],
   "source": [
    "### Getting top 7 keywords\n",
    "#print (\"sure_keyword=\", sure_keyword)\n",
    "count=5\n",
    "if(sure_keyword == 0):\n",
    "    for key,value in sorted_words_dict:\n",
    "        if len(key) > 3 and count > 0:\n",
    "            print (key)\n",
    "            count = count-1"
   ]
  }
 ],
 "metadata": {
  "kernelspec": {
   "display_name": "Python 3",
   "language": "python",
   "name": "python3"
  },
  "language_info": {
   "codemirror_mode": {
    "name": "ipython",
    "version": 3
   },
   "file_extension": ".py",
   "mimetype": "text/x-python",
   "name": "python",
   "nbconvert_exporter": "python",
   "pygments_lexer": "ipython3",
   "version": "3.6.5"
  }
 },
 "nbformat": 4,
 "nbformat_minor": 2
}
