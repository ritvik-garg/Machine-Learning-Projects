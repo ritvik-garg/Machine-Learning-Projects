{
 "cells": [
  {
   "cell_type": "code",
   "execution_count": 232,
   "metadata": {},
   "outputs": [],
   "source": [
    "import nltk\n",
    "from nltk.corpus import stopwords,words\n",
    "from nltk import wordpunct_tokenize\n",
    "from nltk import PorterStemmer\n",
    "from nltk.stem.wordnet import WordNetLemmatizer\n",
    "from autocorrect import spell\n",
    "import math\n",
    "from decimal import *\n",
    "import operator"
   ]
  },
  {
   "cell_type": "code",
   "execution_count": 233,
   "metadata": {},
   "outputs": [],
   "source": [
    "path = \"C:/Users/Ritvik/Desktop/1Learn/final_stopwords.txt\"\n",
    "file = open(path, 'r')\n",
    "text = file.read()"
   ]
  },
  {
   "cell_type": "code",
   "execution_count": 234,
   "metadata": {},
   "outputs": [
    {
     "name": "stdout",
     "output_type": "stream",
     "text": [
      "739\n"
     ]
    }
   ],
   "source": [
    "stop_words = wordpunct_tokenize(text)\n",
    "stop_words = set(stop_words)\n",
    "print(len(stop_words))"
   ]
  },
  {
   "cell_type": "code",
   "execution_count": 235,
   "metadata": {},
   "outputs": [],
   "source": [
    "files = [\"CHAP 1.txt\",\"CHAP 2.txt\",\"CHAP 3.txt\",\"CHAP 4.txt\",\"CHAP 5.txt\",\"CHAP 6.txt\",\"CHAP 7.txt\",\"CHAP 8.txt\",\"CHAP 9.txt\",\"CHAP 10.txt\",\"CHAP 11.txt\",\"CHAP 12.txt\",\"CHAP 13.txt\",\"CHAP 14.txt\",\"CHAP 15.txt\",\"CHAP 16.txt\"]\n",
    "books = []\n",
    "path = \"C:/Users/Ritvik/Desktop/1Learn/Keyword Detector/ncert_text/\""
   ]
  },
  {
   "cell_type": "code",
   "execution_count": 236,
   "metadata": {},
   "outputs": [],
   "source": [
    "for i in range(len(files)):\n",
    "    file = open(path+files[i], 'r')\n",
    "    text = file.read()\n",
    "    file.close()\n",
    "    books.append(text)"
   ]
  },
  {
   "cell_type": "code",
   "execution_count": 237,
   "metadata": {},
   "outputs": [],
   "source": [
    "path_2 = \"C:/Users/Ritvik/Desktop/1Learn/\"\n",
    "file = open(path_2 + \"test.txt\", 'r')\n",
    "text = file.read()"
   ]
  },
  {
   "cell_type": "code",
   "execution_count": 238,
   "metadata": {},
   "outputs": [
    {
     "name": "stdout",
     "output_type": "stream",
     "text": [
      "449\n"
     ]
    }
   ],
   "source": [
    "words = wordpunct_tokenize(text)\n",
    "words = [w.lower() for w in words]\n",
    "print (len(words)) # lets see the no of words in the text."
   ]
  },
  {
   "cell_type": "code",
   "execution_count": 239,
   "metadata": {},
   "outputs": [
    {
     "name": "stdout",
     "output_type": "stream",
     "text": [
      "82\n"
     ]
    }
   ],
   "source": [
    "words = [w for w in words if w not in stop_words]\n",
    "words = [w for w in words if w.isalpha() == True and len(w) > 2]\n",
    "words = set(words)\n",
    "words = list(words)\n",
    "no_of_words = len(words)\n",
    "print (no_of_words) # Finally these number of words are used for keyword detection."
   ]
  },
  {
   "cell_type": "code",
   "execution_count": 240,
   "metadata": {},
   "outputs": [],
   "source": [
    "lmtzr = WordNetLemmatizer()\n",
    "words = [lmtzr.lemmatize(w) for w in words]\n",
    "count_of_words = len(words) # count is used when calculating term frequency."
   ]
  },
  {
   "cell_type": "code",
   "execution_count": 241,
   "metadata": {},
   "outputs": [
    {
     "name": "stdout",
     "output_type": "stream",
     "text": [
      "['chain', 'silicon', 'estimated', 'element', 'beginning', 'ability', 'sharing', 'molecule', 'addition', 'catenation', 'single', 'sulphur', 'specific', 'bond', 'compound', 'million', 'recently', 'called', 'extent', 'exceptionally', 'factor', 'ring', 'form', 'chlorine', 'property', 'noticed', 'molecule', 'property', 'versatile', 'chemist', 'margin', 'atom', 'oxygen', 'hold', 'methane', 'enables', 'element', 'electron', 'carbon', 'unsaturated', 'upto', 'bonding', 'reason', 'exhibit', 'nitrogen', 'arranged', 'formation', 'structure', 'branched', 'triple', 'valency', 'reactive', 'unique', 'strong', 'weaker', 'saturated', 'formula', 'compound', 'size', 'mono', 'rise', 'stable', 'capable', 'valent', 'depend', 'bond', 'chapter', 'simple', 'linked', 'pair', 'nature', 'formed', 'nucleus', 'double', 'hydrogen', 'larger', 'covalent', 'giving', 'shared', 'outnumbers', 'form', 'strongly']\n"
     ]
    }
   ],
   "source": [
    "print(words)"
   ]
  },
  {
   "cell_type": "code",
   "execution_count": 242,
   "metadata": {},
   "outputs": [],
   "source": [
    "stemmer = PorterStemmer()\n",
    "words = [stemmer.stem(w) for w in words]"
   ]
  },
  {
   "cell_type": "code",
   "execution_count": 243,
   "metadata": {},
   "outputs": [
    {
     "name": "stdout",
     "output_type": "stream",
     "text": [
      "['chain', 'silicon', 'estime', 'element', 'begin', 'bail', 'share', 'molecule', 'admit', 'eaten', 'single', 'sulphur', 'specif', 'bond', 'compound', 'million', 'recent', 'call', 'extent', 'except', 'factor', 'ring', 'form', 'chlorin', 'property', 'notice', 'molecule', 'property', 'versatile', 'chemist', 'margin', 'atom', 'oxygen', 'hold', 'Meehan', 'enable', 'element', 'electron', 'carbon', 'unsatur', 'unto', 'bond', 'reason', 'exhibit', 'nitrogen', 'arrange', 'format', 'structure', 'branch', 'tripl', 'valent', 'reactive', 'unique', 'strong', 'weaker', 'satyr', 'formula', 'compound', 'size', 'mono', 'rise', 'stable', 'capable', 'valent', 'depend', 'bond', 'chapter', 'simple', 'link', 'pair', 'nature', 'form', 'nucleus', 'doubt', 'hydrogen', 'larger', 'coal', 'give', 'share', 'outnumb', 'form', 'strongly']\n"
     ]
    }
   ],
   "source": [
    "words = [spell(w) for w in words]\n",
    "print (words)"
   ]
  },
  {
   "cell_type": "code",
   "execution_count": 244,
   "metadata": {},
   "outputs": [],
   "source": [
    "fd = nltk.FreqDist(words)"
   ]
  },
  {
   "cell_type": "code",
   "execution_count": 245,
   "metadata": {},
   "outputs": [],
   "source": [
    "words_dict = {}\n",
    "for i in words:\n",
    "    words_dict[i] = 0"
   ]
  },
  {
   "cell_type": "code",
   "execution_count": 246,
   "metadata": {},
   "outputs": [],
   "source": [
    "token={}  # Creating Dictionary 'token' to store tokenized word for each text file.\n",
    "for i in range(9):\n",
    "    token[i] = wordpunct_tokenize(books[i])"
   ]
  },
  {
   "cell_type": "code",
   "execution_count": 247,
   "metadata": {},
   "outputs": [
    {
     "name": "stdout",
     "output_type": "stream",
     "text": [
      "16\n"
     ]
    }
   ],
   "source": [
    "no_of_docs = len(books) # used in idf formula\n",
    "print (no_of_docs)"
   ]
  },
  {
   "cell_type": "code",
   "execution_count": 248,
   "metadata": {},
   "outputs": [],
   "source": [
    "def IDF(key):\n",
    "    hit = 0 # to store no of doc having input word.\n",
    "    for i in token.keys():\n",
    "        for word in token[i]:\n",
    "            if word== key :\n",
    "                hit = hit + 1\n",
    "                break\n",
    "    (idf) = math.log10(Decimal(no_of_docs+1)/Decimal(hit+1)) \n",
    "    return idf"
   ]
  },
  {
   "cell_type": "code",
   "execution_count": 249,
   "metadata": {},
   "outputs": [],
   "source": [
    "for i in words:\n",
    "    getcontext().prec = 10\n",
    "    tf = Decimal(fd[i])/Decimal(count_of_words) # term frequency\n",
    "    idf = IDF(i) # Inverse Term Frequency\n",
    "    tf_idf = Decimal(tf)*Decimal(idf)\n",
    "    words_dict[i] = tf_idf"
   ]
  },
  {
   "cell_type": "code",
   "execution_count": 250,
   "metadata": {},
   "outputs": [
    {
     "name": "stdout",
     "output_type": "stream",
     "text": [
      "[('bond', Decimal('0.03400313143')), ('valent', Decimal('0.02266875428')), ('share', Decimal('0.01837384553')), ('molecule', Decimal('0.01532655927')), ('estime', Decimal('0.01500547465')), ('bail', Decimal('0.01500547465')), ('admit', Decimal('0.01500547465')), ('specif', Decimal('0.01500547465')), ('chlorin', Decimal('0.01500547465')), ('Meehan', Decimal('0.01500547465')), ('unsatur', Decimal('0.01500547465')), ('unto', Decimal('0.01500547465')), ('exhibit', Decimal('0.01500547465')), ('format', Decimal('0.01500547465')), ('branch', Decimal('0.01500547465')), ('tripl', Decimal('0.01500547465')), ('satyr', Decimal('0.01500547465')), ('doubt', Decimal('0.01500547465')), ('outnumb', Decimal('0.01500547465')), ('chain', Decimal('0.01133437714')), ('recent', Decimal('0.01133437714')), ('factor', Decimal('0.01133437714')), ('ring', Decimal('0.01133437714')), ('versatile', Decimal('0.01133437714')), ('chemist', Decimal('0.01133437714')), ('hold', Decimal('0.01133437714')), ('enable', Decimal('0.01133437714')), ('weaker', Decimal('0.01133437714')), ('mono', Decimal('0.01133437714')), ('compound', Decimal('0.01103165051')), ('element', Decimal('0.009398801985')), ('property', Decimal('0.009398801985')), ('silicon', Decimal('0.009186922764')), ('begin', Decimal('0.009186922764')), ('million', Decimal('0.009186922764')), ('call', Decimal('0.009186922764')), ('margin', Decimal('0.009186922764')), ('arrange', Decimal('0.009186922764')), ('unique', Decimal('0.009186922764')), ('stable', Decimal('0.009186922764')), ('capable', Decimal('0.009186922764')), ('link', Decimal('0.009186922764')), ('form', Decimal('0.008431058098')), ('eaten', Decimal('0.007663279634')), ('extent', Decimal('0.007663279634')), ('except', Decimal('0.007663279634')), ('atom', Decimal('0.007663279634')), ('electron', Decimal('0.007663279634')), ('depend', Decimal('0.007663279634')), ('chapter', Decimal('0.007663279634')), ('sulphur', Decimal('0.006481450207')), ('reason', Decimal('0.006481450207')), ('nitrogen', Decimal('0.006481450207')), ('reactive', Decimal('0.006481450207')), ('strong', Decimal('0.006481450207')), ('formula', Decimal('0.006481450207')), ('coal', Decimal('0.006481450207')), ('strongly', Decimal('0.006481450207')), ('notice', Decimal('0.005515825255')), ('pair', Decimal('0.005515825255')), ('larger', Decimal('0.005515825255')), ('single', Decimal('0.004699400993')), ('structure', Decimal('0.004699400993')), ('size', Decimal('0.004699400993')), ('nucleus', Decimal('0.004699400993')), ('carbon', Decimal('0.003992182126')), ('rise', Decimal('0.003992182126')), ('simple', Decimal('0.003992182126')), ('nature', Decimal('0.003992182126')), ('hydrogen', Decimal('0.003992182126')), ('give', Decimal('0.003368370877')), ('oxygen', Decimal('0.002810352699'))]\n"
     ]
    }
   ],
   "source": [
    "sorted_words_dict = sorted(words_dict.items(), key=operator.itemgetter(1), reverse = True)\n",
    "print (sorted_words_dict)"
   ]
  },
  {
   "cell_type": "code",
   "execution_count": 251,
   "metadata": {},
   "outputs": [
    {
     "name": "stdout",
     "output_type": "stream",
     "text": [
      "bond\n",
      "valent\n",
      "share\n",
      "molecule\n",
      "estime\n",
      "bail\n",
      "admit\n"
     ]
    }
   ],
   "source": [
    "count = 7\n",
    "for key,value in sorted_words_dict:\n",
    "    if len(key) > 3 and count != 0:\n",
    "        print (key)\n",
    "        count = count-1"
   ]
  },
  {
   "cell_type": "code",
   "execution_count": null,
   "metadata": {},
   "outputs": [],
   "source": []
  }
 ],
 "metadata": {
  "kernelspec": {
   "display_name": "Python 3",
   "language": "python",
   "name": "python3"
  },
  "language_info": {
   "codemirror_mode": {
    "name": "ipython",
    "version": 3
   },
   "file_extension": ".py",
   "mimetype": "text/x-python",
   "name": "python",
   "nbconvert_exporter": "python",
   "pygments_lexer": "ipython3",
   "version": "3.6.5"
  }
 },
 "nbformat": 4,
 "nbformat_minor": 2
}
