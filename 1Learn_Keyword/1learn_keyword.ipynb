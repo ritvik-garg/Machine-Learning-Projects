{
 "cells": [
  {
   "cell_type": "markdown",
   "metadata": {},
   "source": [
    "### Importing necessary packages"
   ]
  },
  {
   "cell_type": "code",
   "execution_count": 217,
   "metadata": {},
   "outputs": [],
   "source": [
    "import nltk\n",
    "from nltk.corpus import stopwords,words\n",
    "from nltk import wordpunct_tokenize\n",
    "from nltk import PorterStemmer\n",
    "from nltk.stem.wordnet import WordNetLemmatizer\n",
    "from autocorrect import spell\n",
    "import math\n",
    "from decimal import *\n",
    "import operator"
   ]
  },
  {
   "cell_type": "markdown",
   "metadata": {},
   "source": [
    "### Stopwords from differnt sources are copied into one text file and then read."
   ]
  },
  {
   "cell_type": "code",
   "execution_count": 218,
   "metadata": {},
   "outputs": [],
   "source": [
    "path = \"C:/Users/Ritvik/Desktop/1Learn/final_stopwords.txt\"\n",
    "file = open(path, 'r')\n",
    "text = file.read()"
   ]
  },
  {
   "cell_type": "code",
   "execution_count": 219,
   "metadata": {},
   "outputs": [],
   "source": [
    "stop_words = wordpunct_tokenize(text)\n",
    "stop_words = set(stop_words)\n",
    "#print((stop_words))"
   ]
  },
  {
   "cell_type": "markdown",
   "metadata": {},
   "source": [
    "### These are the documents which we need for calculating idf..These text files are all added into a single list."
   ]
  },
  {
   "cell_type": "code",
   "execution_count": 220,
   "metadata": {},
   "outputs": [],
   "source": [
    "files = [\"CHAP 1.txt\",\"CHAP 2.txt\",\"CHAP 3.txt\",\"CHAP 4.txt\",\"CHAP 5.txt\",\"CHAP 6.txt\",\"CHAP 7.txt\",\"CHAP 8.txt\",\"CHAP 9.txt\",\"CHAP 10.txt\",\"CHAP 11.txt\",\"CHAP 12.txt\",\"CHAP 13.txt\",\"CHAP 14.txt\",\"CHAP 15.txt\",\"CHAP 16.txt\"]\n",
    "books = []\n",
    "path = \"C:/Users/Ritvik/Desktop/1Learn/Keyword Detector/ncert_text/\""
   ]
  },
  {
   "cell_type": "code",
   "execution_count": 221,
   "metadata": {},
   "outputs": [],
   "source": [
    "for i in range(len(files)):\n",
    "    file = open(path+files[i], 'r')\n",
    "    text = file.read()\n",
    "    file.close()\n",
    "    books.append(text)"
   ]
  },
  {
   "cell_type": "markdown",
   "metadata": {},
   "source": [
    "### Reading test file..tokenizing..removing stopwords..lemmatizing..also auto-correct.."
   ]
  },
  {
   "cell_type": "code",
   "execution_count": 222,
   "metadata": {},
   "outputs": [],
   "source": [
    "path_2 = \"C:/Users/Ritvik/Desktop/1Learn/\"\n",
    "file = open(path_2 + \"test1.txt\", 'r')\n",
    "text = file.read()"
   ]
  },
  {
   "cell_type": "code",
   "execution_count": 223,
   "metadata": {},
   "outputs": [
    {
     "name": "stdout",
     "output_type": "stream",
     "text": [
      "524\n"
     ]
    }
   ],
   "source": [
    "words = wordpunct_tokenize(text)\n",
    "#print(words)\n",
    "words = [w.lower() for w in words]\n",
    "print (len(words)) # lets see the no of words in the text."
   ]
  },
  {
   "cell_type": "code",
   "execution_count": 224,
   "metadata": {},
   "outputs": [
    {
     "name": "stdout",
     "output_type": "stream",
     "text": [
      "738\n",
      "111\n"
     ]
    }
   ],
   "source": [
    "print(len(stop_words))\n",
    "words = [w for w in words if w not in stop_words]\n",
    "words = [w for w in words if w.isalpha() == True and len(w) > 2]\n",
    "words = set(words)\n",
    "words = list(words)\n",
    "no_of_words = len(words)\n",
    "print (no_of_words) # Finally these number of words are used for keyword detection."
   ]
  },
  {
   "cell_type": "code",
   "execution_count": 225,
   "metadata": {},
   "outputs": [],
   "source": [
    "lmtzr = WordNetLemmatizer()\n",
    "words = [lmtzr.lemmatize(w) for w in words]\n",
    "count_of_words = len(words) # count is used when calculating term frequency."
   ]
  },
  {
   "cell_type": "code",
   "execution_count": 226,
   "metadata": {},
   "outputs": [],
   "source": [
    "#print(words)"
   ]
  },
  {
   "cell_type": "code",
   "execution_count": 227,
   "metadata": {
    "scrolled": true
   },
   "outputs": [
    {
     "name": "stdout",
     "output_type": "stream",
     "text": [
      "['evolved', 'arrive', 'article', 'layer', 'filing', 'coated', 'observed', 'process', 'caution', 'prevent', 'decide', 'attractive', 'dyed', 'thicker', 'sample', 'observe', 'cold', 'improved', 'reactive', 'reaction', 'reacts', 'shown', 'vigorously', 'corrosion', 'metal', 'coat', 'steam', 'temperature', 'burner', 'oil', 'filled', 'burning', 'react', 'sulphuric', 'anodising', 'start', 'metal', 'activity', 'silver', 'heating', 'make', 'dilute', 'air', 'oxidation', 'finish', 'coloured', 'magnesium', 'accidental', 'prevents', 'performing', 'kerosene', 'aluminium', 'forming', 'vigorous', 'anode', 'zinc', 'time', 'increasing', 'oxide', 'fig', 'gold', 'produce', 'easily', 'protect', 'covered', 'assistance', 'water', 'burn', 'conclusion', 'electrolysed', 'decreasing', 'temperature', 'reactivity', 'separately', 'article', 'piece', 'acid', 'floating', 'implying', 'iron', 'reactivity', 'exposed', 'surface', 'sodium', 'oxygen', 'catch', 'sprinkled', 'reaction', 'fire', 'teacher', 'apparatus', 'copper', 'resistant', 'reacted', 'lead', 'rate', 'ordinary', 'black', 'flame', 'resistance', 'hot', 'potassium', 'arrange', 'collect', 'half', 'gas', 'clean', 'develops', 'beaker', 'protective', 'immersed']\n"
     ]
    }
   ],
   "source": [
    "words = [spell(w) for w in words]\n",
    "print (words)"
   ]
  },
  {
   "cell_type": "markdown",
   "metadata": {},
   "source": [
    "### Calculating Frequency Distribution of words"
   ]
  },
  {
   "cell_type": "code",
   "execution_count": 228,
   "metadata": {},
   "outputs": [],
   "source": [
    "fd = nltk.FreqDist(words)"
   ]
  },
  {
   "cell_type": "markdown",
   "metadata": {},
   "source": [
    "### Creating Dictionary to store tf-idf value corresponding to each word."
   ]
  },
  {
   "cell_type": "code",
   "execution_count": 229,
   "metadata": {},
   "outputs": [],
   "source": [
    "words_dict = {}\n",
    "for i in words:\n",
    "    words_dict[i] = 0"
   ]
  },
  {
   "cell_type": "markdown",
   "metadata": {},
   "source": [
    "#### In the list of doc we have 16 different text files.. tokenize each text file."
   ]
  },
  {
   "cell_type": "code",
   "execution_count": 230,
   "metadata": {},
   "outputs": [],
   "source": [
    "token={}  # Creating Dictionary 'token' to store tokenized word for each text file.\n",
    "for i in range(9):\n",
    "    token[i] = wordpunct_tokenize(books[i])"
   ]
  },
  {
   "cell_type": "code",
   "execution_count": 231,
   "metadata": {},
   "outputs": [
    {
     "name": "stdout",
     "output_type": "stream",
     "text": [
      "16\n"
     ]
    }
   ],
   "source": [
    "no_of_docs = len(books) # used in idf formula\n",
    "print (no_of_docs)"
   ]
  },
  {
   "cell_type": "code",
   "execution_count": 232,
   "metadata": {},
   "outputs": [],
   "source": [
    "## Function to calculate idf \n",
    "\n",
    "def IDF(key):\n",
    "    hit = 0 # to store no of doc having input word.\n",
    "    for i in token.keys():\n",
    "        for word in token[i]:\n",
    "            if word== key :\n",
    "                hit = hit + 1\n",
    "                break\n",
    "    (idf) = math.log10(Decimal(no_of_docs+1)/Decimal(hit+1)) \n",
    "    return idf"
   ]
  },
  {
   "cell_type": "code",
   "execution_count": 233,
   "metadata": {},
   "outputs": [],
   "source": [
    "## Calculating tf*idf for each word..\n",
    "\n",
    "for i in words:\n",
    "    getcontext().prec = 10\n",
    "    tf = Decimal(fd[i])/Decimal(count_of_words) # term frequency\n",
    "    idf = IDF(i) # Inverse Term Frequency\n",
    "    tf_idf = Decimal(tf)*Decimal(idf)\n",
    "    words_dict[i] = tf_idf"
   ]
  },
  {
   "cell_type": "code",
   "execution_count": 234,
   "metadata": {},
   "outputs": [
    {
     "name": "stdout",
     "output_type": "stream",
     "text": [
      "106\n",
      "[('article', Decimal('0.01674628695')), ('reactivity', Decimal('0.01132232307')), ('filing', Decimal('0.01108512542')), ('caution', Decimal('0.01108512542')), ('fig', Decimal('0.01108512542')), ('attractive', Decimal('0.008373143475')), ('dyed', Decimal('0.008373143475')), ('improved', Decimal('0.008373143475')), ('anodising', Decimal('0.008373143475')), ('prevents', Decimal('0.008373143475')), ('performing', Decimal('0.008373143475')), ('vigorous', Decimal('0.008373143475')), ('gold', Decimal('0.008373143475')), ('electrolysed', Decimal('0.008373143475')), ('floating', Decimal('0.008373143475')), ('implying', Decimal('0.008373143475')), ('catch', Decimal('0.008373143475')), ('sprinkled', Decimal('0.008373143475')), ('reacted', Decimal('0.008373143475')), ('ordinary', Decimal('0.008373143475')), ('protective', Decimal('0.008373143475')), ('metal', Decimal('0.008149507585')), ('coated', Decimal('0.006786735736')), ('thicker', Decimal('0.006786735736')), ('sample', Decimal('0.006786735736')), ('corrosion', Decimal('0.006786735736')), ('steam', Decimal('0.006786735736')), ('silver', Decimal('0.006786735736')), ('finish', Decimal('0.006786735736')), ('accidental', Decimal('0.006786735736')), ('kerosene', Decimal('0.006786735736')), ('anode', Decimal('0.006786735736')), ('burn', Decimal('0.006786735736')), ('conclusion', Decimal('0.006786735736')), ('decreasing', Decimal('0.006786735736')), ('exposed', Decimal('0.006786735736')), ('resistant', Decimal('0.006786735736')), ('resistance', Decimal('0.006786735736')), ('arrange', Decimal('0.006786735736')), ('immersed', Decimal('0.006786735736')), ('reaction', Decimal('0.005898359179')), ('temperature', Decimal('0.005898359179')), ('arrive', Decimal('0.005661161532')), ('coat', Decimal('0.005661161532')), ('burner', Decimal('0.005661161532')), ('heating', Decimal('0.005661161532')), ('oxidation', Decimal('0.005661161532')), ('zinc', Decimal('0.005661161532')), ('covered', Decimal('0.005661161532')), ('piece', Decimal('0.005661161532')), ('fire', Decimal('0.005661161532')), ('hot', Decimal('0.005661161532')), ('develops', Decimal('0.005661161532')), ('layer', Decimal('0.004788098352')), ('decide', Decimal('0.004788098352')), ('cold', Decimal('0.004788098352')), ('reactive', Decimal('0.004788098352')), ('reacts', Decimal('0.004788098352')), ('vigorously', Decimal('0.004788098352')), ('oil', Decimal('0.004788098352')), ('burning', Decimal('0.004788098352')), ('sulphuric', Decimal('0.004788098352')), ('coloured', Decimal('0.004788098352')), ('aluminium', Decimal('0.004788098352')), ('forming', Decimal('0.004788098352')), ('oxide', Decimal('0.004788098352')), ('protect', Decimal('0.004788098352')), ('assistance', Decimal('0.004788098352')), ('iron', Decimal('0.004788098352')), ('teacher', Decimal('0.004788098352')), ('black', Decimal('0.004788098352')), ('flame', Decimal('0.004788098352')), ('collect', Decimal('0.004788098352')), ('clean', Decimal('0.004788098352')), ('beaker', Decimal('0.004788098352')), ('react', Decimal('0.004074753792')), ('dilute', Decimal('0.004074753792')), ('air', Decimal('0.004074753792')), ('increasing', Decimal('0.004074753792')), ('easily', Decimal('0.004074753792')), ('sodium', Decimal('0.004074753792')), ('copper', Decimal('0.004074753792')), ('rate', Decimal('0.004074753792')), ('gas', Decimal('0.004074753792')), ('prevent', Decimal('0.003471629563')), ('activity', Decimal('0.003471629563')), ('magnesium', Decimal('0.003471629563')), ('produce', Decimal('0.003471629563')), ('separately', Decimal('0.003471629563')), ('acid', Decimal('0.003471629563')), ('apparatus', Decimal('0.003471629563')), ('potassium', Decimal('0.003471629563')), ('half', Decimal('0.003471629563')), ('evolved', Decimal('0.002949179589')), ('observed', Decimal('0.002949179589')), ('process', Decimal('0.002949179589')), ('shown', Decimal('0.002949179589')), ('filled', Decimal('0.002949179589')), ('surface', Decimal('0.002949179589')), ('lead', Decimal('0.002949179589')), ('observe', Decimal('0.002488346054')), ('start', Decimal('0.002488346054')), ('make', Decimal('0.002488346054')), ('time', Decimal('0.002076116409')), ('water', Decimal('0.002076116409')), ('oxygen', Decimal('0.002076116409'))]\n"
     ]
    }
   ],
   "source": [
    "### Reverse Sorting dictionary according to tf-idf value..\n",
    "\n",
    "sorted_words_dict = sorted(words_dict.items(), key=operator.itemgetter(1), reverse = True)\n",
    "print(len(sorted_words_dict))\n",
    "print (sorted_words_dict)\n",
    "  "
   ]
  },
  {
   "cell_type": "markdown",
   "metadata": {},
   "source": [
    "###  This block compares text with the list having all topics and sub-topics.."
   ]
  },
  {
   "cell_type": "code",
   "execution_count": 235,
   "metadata": {},
   "outputs": [
    {
     "name": "stdout",
     "output_type": "stream",
     "text": [
      "HEADING is :   What happens when Metals react with Water?\n"
     ]
    }
   ],
   "source": [
    "dict_topics = {0:['CHEMICAL EQUATIONS',\"Writing a Chemical Equation\",\"Balanced Chemical Equations\",\"TYPES OF CHEMICAL REACTIONS\",\"Combination Reaction\",\"Decomposition Reaction\",\"Displacement Reaction\",\"Double Displacement Reaction\",\"Oxidation and Reduction\",\"Corrosion\",\"Rancidity\"],1:[\"Acids and Bases in the Laboratory\",\"How do Acids and Bases React with Metals?\",\"How do Metal Carbonates and Metal\",\"How do Acids and Bases React with each other?\",\"Reaction of Metallic Oxides with Acids\",\"Reaction of a Non-metallic Oxide with Base\",\"WHAT DO ALL ACIDS AND ALL BASES HAVE IN\",\"What Happens to an Acid or a Base in a Water Solution?\",\"HOW STRONG ARE ACID OR BASE SOLUTIONS?\",\"Importance of pH in Everyday Life\",\"MORE ABOUT SALTS\",\"Family of Salts\",\"pH of Salts\",\"Chemicals from Common Salt\",\"Are the Crystals of Salts really Dry?\"],2:[\"Metals\",\"Non-metals\",\"CHEMICAL PROPERTIES OF METALS\",\"What happens when Metals are burnt in Air?\",\"What happens when Metals react with Water?\",\"What happens when Metals react with Acids?\",\"How do Metals react with Solutions of other Metal\",\"The Reactivity Series\",\"HOW DO METALS AND NON-METALS REACT?\",\"Properties of lonic Compounds\",\"OCCURRENCE OF METALS\",\"Extraction of Metals\",\"Enrichment of Ores\",\"Extracting Metals Low in the Activity Series\",\"Extracting Metals in the Middle of the Activity Series\",\"Extracting Metals towards the Top of the\",\"Refining of Metals\",\"CORROSION\",\"Prevention of Corrosion\"]}\n",
    "\n",
    "path_2 = \"C:/Users/Ritvik/Desktop/1Learn/\"\n",
    "file = open(path_2 + \"test1.txt\", 'r')\n",
    "text = file.read()\n",
    "final = []\n",
    "def learn_1():\n",
    "    for i in range(len(dict_topics)):\n",
    "        for j in range(len(dict_topics[i])):\n",
    "            if(dict_topics[i][j] in text):\n",
    "                final.append(dict_topics[i][j])\n",
    "                if(j==len(dict_topics[i])-1):\n",
    "                    i = len(dict_topics)\n",
    "        \n",
    "learn_1()\n",
    "if(len(final)>0):\n",
    "    sure_keyword = 1\n",
    "#print(final)\n",
    "print(\"HEADING is :  \", final[len(final)-1])"
   ]
  },
  {
   "cell_type": "code",
   "execution_count": 236,
   "metadata": {},
   "outputs": [],
   "source": [
    "### Getting top 7 keywords\n",
    "#print (\"sure_keyword=\", sure_keyword)\n",
    "count=5\n",
    "if(sure_keyword == 0):\n",
    "    for key,value in sorted_words_dict:\n",
    "        if len(key) > 3 and count > 0:\n",
    "            print (key)\n",
    "            count = count-1"
   ]
  }
 ],
 "metadata": {
  "kernelspec": {
   "display_name": "Python 3",
   "language": "python",
   "name": "python3"
  },
  "language_info": {
   "codemirror_mode": {
    "name": "ipython",
    "version": 3
   },
   "file_extension": ".py",
   "mimetype": "text/x-python",
   "name": "python",
   "nbconvert_exporter": "python",
   "pygments_lexer": "ipython3",
   "version": "3.6.5"
  }
 },
 "nbformat": 4,
 "nbformat_minor": 2
}
