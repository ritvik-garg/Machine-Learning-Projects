{
 "cells": [
  {
   "cell_type": "markdown",
   "metadata": {},
   "source": [
    "### Importing necessary packages "
   ]
  },
  {
   "cell_type": "code",
   "execution_count": 2,
   "metadata": {},
   "outputs": [
    {
     "name": "stdout",
     "output_type": "stream",
     "text": [
      "*** Introductory Examples for the NLTK Book ***\n",
      "Loading text1, ..., text9 and sent1, ..., sent9\n",
      "Type the name of the text or sentence to view it.\n",
      "Type: 'texts()' or 'sents()' to list the materials.\n",
      "text1: Moby Dick by Herman Melville 1851\n",
      "text2: Sense and Sensibility by Jane Austen 1811\n",
      "text3: The Book of Genesis\n",
      "text4: Inaugural Address Corpus\n",
      "text5: Chat Corpus\n",
      "text6: Monty Python and the Holy Grail\n",
      "text7: Wall Street Journal\n",
      "text8: Personals Corpus\n",
      "text9: The Man Who Was Thursday by G . K . Chesterton 1908\n"
     ]
    }
   ],
   "source": [
    "from nltk.book import *\n",
    "from nltk.stem.wordnet import WordNetLemmatizer"
   ]
  },
  {
   "cell_type": "markdown",
   "metadata": {},
   "source": [
    "### Objective"
   ]
  },
  {
   "cell_type": "markdown",
   "metadata": {},
   "source": [
    "Nltk's 'Books' corpora is used to get the number of documents for the calculation of Inverse Document Frequency.\n",
    "\n",
    "All the texts are first lemmatized and then converted to lower-case and then only unique words with alphabhet characters are selected and written down in file.\n",
    "All text books are stored into a folder."
   ]
  },
  {
   "cell_type": "code",
   "execution_count": 4,
   "metadata": {},
   "outputs": [
    {
     "name": "stdout",
     "output_type": "stream",
     "text": [
      "Book1.txt\n",
      "Book2.txt\n",
      "Book3.txt\n",
      "Book4.txt\n",
      "Book5.txt\n",
      "Book6.txt\n",
      "Book7.txt\n",
      "Book8.txt\n",
      "Book9.txt\n"
     ]
    }
   ],
   "source": [
    "path = \"C:/Users/Swati/Desktop/NLTK_Books/\"\n",
    "\n",
    "books = [text1, text2, text3, text4, text5, text6, text7, text8, text9]\n",
    "files = [\"Book1.txt\", \"Book2.txt\", \"Book3.txt\", \"Book4.txt\", \"Book5.txt\", \"Book6.txt\", \"Book7.txt\", \"Book8.txt\", \"Book9.txt\"]\n",
    "\n",
    "lmtzr = WordNetLemmatizer()\n",
    "\n",
    "for book_no in range(len(books)):\n",
    "    words = set([lmtzr.lemmatize(w.lower()) for w in books[book_no] if w.isalpha() == True])\n",
    "    words = ' '.join(words)\n",
    "    file = open(path + files[book_no],'w')\n",
    "    file.write(words)\n",
    "    file.close()\n",
    "    print files[book_no]\n",
    "                "
   ]
  }
 ],
 "metadata": {
  "kernelspec": {
   "display_name": "Python 2",
   "language": "python",
   "name": "python2"
  },
  "language_info": {
   "codemirror_mode": {
    "name": "ipython",
    "version": 2
   },
   "file_extension": ".py",
   "mimetype": "text/x-python",
   "name": "python",
   "nbconvert_exporter": "python",
   "pygments_lexer": "ipython2",
   "version": "2.7.15"
  }
 },
 "nbformat": 4,
 "nbformat_minor": 2
}
